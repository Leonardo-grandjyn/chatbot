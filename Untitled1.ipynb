{
  "nbformat": 4,
  "nbformat_minor": 0,
  "metadata": {
    "colab": {
      "provenance": [],
      "authorship_tag": "ABX9TyOlbsh8cj/v/e0j9GRPJcyH",
      "include_colab_link": true
    },
    "kernelspec": {
      "name": "python3",
      "display_name": "Python 3"
    },
    "language_info": {
      "name": "python"
    }
  },
  "cells": [
    {
      "cell_type": "markdown",
      "metadata": {
        "id": "view-in-github",
        "colab_type": "text"
      },
      "source": [
        "<a href=\"https://colab.research.google.com/github/Leonardo-grandjyn/chatbot/blob/main/Untitled1.ipynb\" target=\"_parent\"><img src=\"https://colab.research.google.com/assets/colab-badge.svg\" alt=\"Open In Colab\"/></a>"
      ]
    },
    {
      "cell_type": "markdown",
      "source": [
        "# É hora da verdade, hora de fazer acontecer esse projeto 😎"
      ],
      "metadata": {
        "id": "VR0mcKWm-_Cr"
      }
    },
    {
      "cell_type": "markdown",
      "source": [
        "De acordo com a aula 4 é importante instalar o SDK do Google"
      ],
      "metadata": {
        "id": "l_Ety8EPGHG4"
      }
    },
    {
      "cell_type": "code",
      "execution_count": 2,
      "metadata": {
        "id": "nquUaOr1-7ut"
      },
      "outputs": [],
      "source": [
        "!pip install -q -U google-generativeai"
      ]
    },
    {
      "cell_type": "markdown",
      "source": [
        "agora é a hora de importar o SDK e adicionar a chave de API"
      ],
      "metadata": {
        "id": "fvMoZUeBG7Yk"
      }
    },
    {
      "cell_type": "code",
      "source": [
        "import google.generativeai as genai\n",
        "api_key = userdata.get('SECRET KEY')\n",
        "genai.configure(api_key=api_key)"
      ],
      "metadata": {
        "id": "fjaHNPPbHG5g"
      },
      "execution_count": 5,
      "outputs": []
    },
    {
      "cell_type": "markdown",
      "source": [
        "até aqui tudo bem! vamos lá!"
      ],
      "metadata": {
        "id": "GP0u5yaoIN1s"
      }
    },
    {
      "cell_type": "markdown",
      "source": [
        "listar os modelos"
      ],
      "metadata": {
        "id": "6VVTh6SoIe0u"
      }
    },
    {
      "cell_type": "code",
      "source": [
        "for m in genai.list_models():\n",
        "  if 'generateContent' in m.supported_generation_methods:\n",
        "    print(m.name)"
      ],
      "metadata": {
        "colab": {
          "base_uri": "https://localhost:8080/",
          "height": 139
        },
        "id": "xAGM4znwITgj",
        "outputId": "8382aac0-19ee-43f0-ced0-ebc271283194"
      },
      "execution_count": 6,
      "outputs": [
        {
          "output_type": "stream",
          "name": "stdout",
          "text": [
            "models/gemini-1.0-pro\n",
            "models/gemini-1.0-pro-001\n",
            "models/gemini-1.0-pro-latest\n",
            "models/gemini-1.0-pro-vision-latest\n",
            "models/gemini-1.5-pro-latest\n",
            "models/gemini-pro\n",
            "models/gemini-pro-vision\n"
          ]
        }
      ]
    },
    {
      "cell_type": "markdown",
      "source": [
        "iniciar o modelo"
      ],
      "metadata": {
        "id": "EYSnAYybL2ZB"
      }
    },
    {
      "cell_type": "code",
      "source": [
        "model = genai.GenerativeModel(model_name=\"gemini-1.5-pro-latest\")"
      ],
      "metadata": {
        "id": "MOMR6PYmL7Zk"
      },
      "execution_count": 8,
      "outputs": []
    },
    {
      "cell_type": "code",
      "source": [
        "chat = model.start_chat(history=[])"
      ],
      "metadata": {
        "id": "HULWj6DxPM05"
      },
      "execution_count": 10,
      "outputs": []
    },
    {
      "cell_type": "code",
      "source": [
        "prompt = input(\"Chat: \")\n",
        "\n",
        "while prompt != \"fim\":\n",
        "  response = chat.send_message(prompt)\n",
        "  print(\"Resposta: \", response.text, \"\\n\")\n",
        "  prompt = input(\"Chat: \")"
      ],
      "metadata": {
        "colab": {
          "base_uri": "https://localhost:8080/",
          "height": 139
        },
        "id": "3IjTcJEmUZPZ",
        "outputId": "bdee1652-0dd9-494a-86fb-3741f3c04b07"
      },
      "execution_count": 15,
      "outputs": [
        {
          "name": "stdout",
          "output_type": "stream",
          "text": [
            "Chat: boa noite e um abraço do dr pessoa\n",
            "Resposta:  Boa noite, Dr. Pessoa! Um abraço para você também. \n",
            "\n",
            "Espero que tenha uma noite tranquila e um ótimo descanso. 😴 \n",
            " \n",
            "\n",
            "Chat: fim\n"
          ]
        }
      ]
    }
  ]
}